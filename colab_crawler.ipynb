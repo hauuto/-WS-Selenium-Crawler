{
 "nbformat": 4,
 "nbformat_minor": 0,
 "metadata": {
  "colab": {
   "provenance": []
  },
  "kernelspec": {
   "name": "python3",
   "display_name": "Python 3"
  },
  "language_info": {
   "name": "python"
  }
 },
 "cells": [
  {
   "cell_type": "markdown",
   "source": [
    "<h2>IUH DEVELOPER STUDENT CLUB</h2>\n",
    "<h3>WORKSHOP: EXPLORING DATA WITH PYTHON AND SELENIUM</h3>\n",
    "\n",
    "- Thời gian: 20/03/2025, từ 19h đến 21h\n",
    "- Trong buổi workshop này, các bạn sẽ được tìm hiểu về Selenium và các sử dụng các hàm trong Python Selenium để thực hiện việc cào dữ liệu."
   ],
   "metadata": {
    "id": "ChltAQdCXQjn"
   }
  },
  {
   "metadata": {},
   "cell_type": "markdown",
   "source": [
    "### Trước tiên, chúng ta phải thực hiện việc setup môi trường trước\n",
    "\n",
    "Lưu ý:\n",
    "- Bài viết này sử dụng môi trường Google Colab để chạy Selenium và ChromeDriver. Bạn cần cài đặt ChromeDriver và Selenium trên máy tính cá nhân nếu muốn chạy trên máy tính cá nhân. Chi tiết tham khảo file [Cheatsheet.md](Cheatsheet.md)\n",
    "- Bạn cần chạy các cell dưới đây để cài đặt các thư viện cần thiết và cấu hình môi trường trước khi thực hiện các bài tập bên dưới."
   ]
  },
  {
   "cell_type": "code",
   "metadata": {
    "colab": {
     "base_uri": "https://localhost:8080/"
    },
    "collapsed": true,
    "id": "i6OwtoXfAzbG",
    "outputId": "1450abf6-a28f-4c11-804b-e0dac82f5b6e"
   },
   "source": [
    "!apt update\n",
    "!apt install -y wget unzip\n",
    "\n",
    "# Tải Chrome for Testing phiên bản 134.0.6998.88\n",
    "!wget -O google-chrome.zip \"https://storage.googleapis.com/chrome-for-testing-public/134.0.6998.88/linux64/chrome-linux64.zip\"\n",
    "!unzip google-chrome.zip -d /opt/google/\n",
    "!ln -sf /opt/google/chrome-linux64/chrome /usr/bin/google-chrome\n",
    "\n",
    "# Tải ChromeDriver phiên bản 134.0.6998.88\n",
    "!wget -O chromedriver.zip \"https://storage.googleapis.com/chrome-for-testing-public/134.0.6998.88/linux64/chromedriver-linux64.zip\"\n",
    "!unzip chromedriver.zip -d /usr/local/bin/\n",
    "!chmod +x /usr/local/bin/chromedriver-linux64\n",
    "!mv /usr/local/bin/chromedriver-linux64 /usr/local/bin/chromedriver\n"
   ],
   "outputs": [],
   "execution_count": null
  },
  {
   "cell_type": "code",
   "source": [
    "!pip install selenium"
   ],
   "metadata": {
    "colab": {
     "base_uri": "https://localhost:8080/"
    },
    "collapsed": true,
    "id": "Pjkoy4odBDW5",
    "outputId": "a26b0a76-5ca2-44a6-d372-f0eab557f1af"
   },
   "outputs": [],
   "execution_count": null
  },
  {
   "cell_type": "code",
   "source": [
    "!ls /usr/local/bin/chromedriver"
   ],
   "metadata": {
    "colab": {
     "base_uri": "https://localhost:8080/"
    },
    "id": "RSU9ViNDBNjA",
    "outputId": "7c03b00d-8f62-4b70-967c-96b16864fd3b"
   },
   "outputs": [],
   "execution_count": null
  },
  {
   "cell_type": "markdown",
   "source": [
    "Import các thư viện cần thiết và cấu hình Chorme"
   ],
   "metadata": {
    "id": "ZbmqN9ygXquK"
   }
  },
  {
   "cell_type": "code",
   "source": [
    "from selenium import webdriver\n",
    "from selenium.webdriver.common.by import By\n",
    "from selenium.webdriver.chrome.service import Service\n",
    "from selenium.webdriver.chrome.options import Options\n",
    "\n",
    "# Cấu hình Chrome chạy ở chế độ headless\n",
    "chrome_options = Options()\n",
    "chrome_options.add_argument(\"--headless=new\")  # Chế độ không giao diện\n",
    "chrome_options.add_argument(\"--no-sandbox\")  # Chạy trong môi trường Colab\n",
    "chrome_options.add_argument(\"--disable-dev-shm-usage\")  # Hạn chế lỗi bộ nhớ\n",
    "\n",
    "\n"
   ],
   "metadata": {
    "collapsed": true,
    "id": "JjsyWBD5A3Wb"
   },
   "outputs": [],
   "execution_count": null
  },
  {
   "cell_type": "markdown",
   "source": [
    "### Bài tập 1: Cào dữ liệu từ tang web <code>genk.vn</code>"
   ],
   "metadata": {
    "id": "pE1-F1eanckE"
   }
  },
  {
   "cell_type": "code",
   "source": [
    "# Khởi tạo WebDriver với Chrome for Testing\n",
    "driver = webdriver.Chrome(service=Service(\"/usr/local/bin/chromedriver/chromedriver\"), options=chrome_options)\n",
    "\n",
    "# Mở trang web cần cào dữ liệu\n",
    "driver.get(\"https://genk.vn/\")\n",
    "\n",
    "news = driver.find_elements(By.CSS_SELECTOR, '.knswli-right')\n",
    "\n",
    "for i in range(len(news)):\n",
    "  print('Title: ', news[i].find_element(By.CSS_SELECTOR, '.knswli-title').text)\n",
    "  print(\"Subtitle: \", news[i].find_element(By.CSS_SELECTOR, '.knswli-sapo').text)\n",
    "  print('Time: ', news[i].find_element(By.CSS_SELECTOR, '.knswli-meta').text)\n",
    "  print('Link: ', news[i].find_element(By.CSS_SELECTOR, 'h4 > a').get_attribute('href'))\n",
    "  print('\\n')\n",
    "\n",
    "\n",
    "# Đóng trình duyệt\n",
    "driver.quit()"
   ],
   "metadata": {
    "id": "mgxfQziiBAjp",
    "colab": {
     "base_uri": "https://localhost:8080/"
    },
    "outputId": "7b0031b2-1ce1-452c-8582-f3b3b09b4b55"
   },
   "outputs": [],
   "execution_count": null
  },
  {
   "cell_type": "markdown",
   "source": [
    "### Bài tập 2: Cào dữ liệu từ trang web <code>qoutes.toscrape.com</code>. Đây là trang web chuyên dụng để luyện tập việc cào dữ liệu"
   ],
   "metadata": {
    "id": "Y20IaNXBneEH"
   }
  },
  {
   "cell_type": "code",
   "source": [
    "import time\n",
    "from selenium.common.exceptions import NoSuchElementException\n",
    "\n",
    "driver1 = webdriver.Chrome(service=Service(\"/usr/local/bin/chromedriver/chromedriver\"), options=chrome_options)\n",
    "driver1.get(\"https://quotes.toscrape.com/\")\n",
    "\n",
    "list_name = ['sample']\n",
    "\n",
    "while True:\n",
    "    try:\n",
    "        #tìm tất cả các qoutes trong 1 trang\n",
    "        about_list = driver1.find_elements(By.CSS_SELECTOR, 'div.quote')\n",
    "        for i in about_list:\n",
    "            #với mỗi quotes, bấm vào nút 'about'\n",
    "            i.find_element(By.CSS_SELECTOR, 'span > a').click()\n",
    "            #hiện ra trang thông tin tác giả, ta cào cái tên trước\n",
    "            name = driver1.find_element(By.CSS_SELECTOR, '.author-title').text\n",
    "            check = 1\n",
    "            #kiểm tra cái tên mới cào có trùng tác giả nào trong list không, có thì cho biến check = 0\n",
    "            for i in list_name:\n",
    "                if(name == i):\n",
    "                    check = 0\n",
    "\n",
    "            #nếu biến check = 1, nghĩa là tên vừa cào là tên mới\n",
    "            if(check == 1):\n",
    "                #ta thêm tên mới vào list\n",
    "                list_name.append(name)\n",
    "\n",
    "                #và in lần lượt tên, ngày sinh, nơi sinh\n",
    "                print('Author name: ' + name)\n",
    "                print('Date of birth: ' + driver1.find_element(By.CSS_SELECTOR, '.author-born-date').text)\n",
    "                print('Born location: ' + driver1.find_element(By.CSS_SELECTOR, '.author-born-location').text)\n",
    "                print('\\n')\n",
    "                #cho nó nghỉ 1 giây\n",
    "                time.sleep(1)\n",
    "                #rồi thoát ra ngoài trang chính\n",
    "                driver1.back()\n",
    "            #nếu check = 0 (bị trùng) thì quay về trang chính, không thực hiện thao tác cào\n",
    "            else:\n",
    "                driver1.back()\n",
    "\n",
    "        #sau khi cào hết tất cả các quotes trong 1 trang, ta bấm qua trang tiếp theo\n",
    "        driver1.find_element(By.CSS_SELECTOR, 'li.next > a').click()\n",
    "    except NoSuchElementException:\n",
    "        #nếu như đã đến trang cuối (không còn nút 'next' ở cuối trang) thì ta bắt lỗi,\n",
    "        #đưa ra thông báo và thoát vòng lặp\n",
    "        print('Đã đến trang cuối, thoát khỏi vòng lặp')\n",
    "        break"
   ],
   "metadata": {
    "colab": {
     "base_uri": "https://localhost:8080/"
    },
    "id": "vliiFlvOn1YZ",
    "outputId": "beb3c4ce-8169-4d19-9877-7cef379274c7"
   },
   "outputs": [],
   "execution_count": null
  },
  {
   "cell_type": "markdown",
   "source": [
    "### Bài tập 3 (về nhà): Cào dữ liệu lịch học tại trang web <code>sv.iuh.edu.vn</code> (dùng chức năng tra cứu dành cho phụ huynh)\n",
    "\n",
    "- Khi truy cập vào trang web, ta sẽ đứng ở trang đăng nhập. Bây giờ, thay vì gõ MSSV và mật khẩu thì ta sẽ bấm vào nút \"Dành cho phụ huynh\".\n",
    "- Sau đó chọn \"Tra cứu thông tin\".\n",
    "- Thực hiện điền các thông tin được hiển thị trên trang web, sau đó nhấn nút \"Tra cứu\".\n",
    "- Nó sẽ hiển thị \"Kết quả tra cứu\" ở phía dưới phần nhập thông tin. Ở cột \"Lịch học, thi\", ta chọn \"Lịch theo tuần\".\n",
    "- Nó sẽ dẫn ta đến trang xem lịch học, bây giờ ta chỉ cần copy địa chỉ trang web (URL) và bỏ vào hàm <code>get()</code> ở dưới là xong!"
   ],
   "metadata": {
    "id": "kUww0kNhY1-9"
   }
  },
  {
   "cell_type": "code",
   "source": [
    "driver2 = webdriver.Chrome(service=Service(\"/usr/local/bin/chromedriver/chromedriver\"), options=chrome_options)\n",
    "driver2.get(\"Thay thế đường dẫn trang sv của bạn vào đây\")"
   ],
   "metadata": {
    "id": "C0mAFAxduoPQ"
   },
   "outputs": [],
   "execution_count": null
  },
  {
   "cell_type": "code",
   "source": [
    "table = driver2.find_element(By.CSS_SELECTOR, '.table')\n",
    "date = table.find_element(By.CSS_SELECTOR, 'thead > tr')\n",
    "\n",
    "for i in date.find_elements(By.CSS_SELECTOR, 'th'):\n",
    "  if(i.text != 'Ca học'):\n",
    "    print(i.text)"
   ],
   "metadata": {
    "colab": {
     "base_uri": "https://localhost:8080/"
    },
    "id": "H6tl1ScDurdy",
    "outputId": "1e8d824b-3e3a-4926-a6e0-ae5f413dd9a5"
   },
   "outputs": [],
   "execution_count": null
  },
  {
   "cell_type": "code",
   "source": [
    "subject = table.find_elements(By.CSS_SELECTOR, 'tbody > tr')\n",
    "\n",
    "for i in subject:\n",
    "  result = i.find_elements(By.CSS_SELECTOR, 'td')\n",
    "  for j in range(1, len(result)):\n",
    "\n",
    "    print('Subject name: ' + result[j].find_element(By.CSS_SELECTOR, 'b').text)\n"
   ],
   "metadata": {
    "colab": {
     "base_uri": "https://localhost:8080/",
     "height": 790
    },
    "id": "dy-nblIevZSB",
    "outputId": "b66d325f-bbd2-4153-ae47-baeef03ecc1a"
   },
   "outputs": [],
   "execution_count": null
  }
 ]
}
